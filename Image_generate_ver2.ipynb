{
 "cells": [
  {
   "cell_type": "code",
   "execution_count": 1,
   "metadata": {},
   "outputs": [],
   "source": [
    "import cv2\n",
    "import matplotlib.pyplot as plt\n",
    "import numpy as np\n",
    "import random\n",
    "import os"
   ]
  },
  {
   "cell_type": "markdown",
   "metadata": {},
   "source": [
    "### 明亮、位置隨機生成 + 藥包數量 + 水平翻轉"
   ]
  },
  {
   "cell_type": "code",
   "execution_count": 2,
   "metadata": {},
   "outputs": [],
   "source": [
    "#增生照片流程：\n",
    "#1. 基礎照片路徑修改\n",
    "#2. 確認resize後，照片是否走鐘\n",
    "#3. 修改藥名\n",
    "#4. 儲存路徑修訂"
   ]
  },
  {
   "cell_type": "code",
   "execution_count": 3,
   "metadata": {},
   "outputs": [],
   "source": [
    "#讀取基礎照片\n",
    "\n",
    "# img1 = cv2.imread('./image_sample/25_TRANSAMIN_1.jpeg')[:, :, ::-1]\n",
    "# imgbg = cv2.imread('./image_sample/background_2.jpg')[:, :, ::-1]\n",
    "\n",
    "# print(img1.shape)\n",
    "# print(imgbg.shape)\n",
    "\n",
    "# plt.imshow(img1)\n",
    "# plt.title(\"shape {}\".format(img1.shape))\n",
    "# plt.axis(\"off\")\n",
    "# plt.show()"
   ]
  },
  {
   "cell_type": "code",
   "execution_count": 4,
   "metadata": {},
   "outputs": [],
   "source": [
    "# resize_img1 = cv2.resize(img1, (126, 171))\n",
    "# resize_img1 = cv2.resize(img1, (112, 82))\n",
    "# resize_img1 = cv2.resize(img1, (92, 67))\n",
    "\n",
    "# resize_imgbg = cv2.resize(imgbg, (378, 512))\n",
    "\n",
    "# plt.imshow(resize_img1)\n",
    "# plt.title(\"shape {}\".format(resize_img1.shape))\n",
    "# plt.axis(\"off\")\n",
    "# plt.show()"
   ]
  },
  {
   "cell_type": "code",
   "execution_count": 5,
   "metadata": {},
   "outputs": [],
   "source": [
    "# dataname='25_TRANSAMIN'  #生成藥名\n",
    "# num = 250          #生成張數"
   ]
  },
  {
   "cell_type": "code",
   "execution_count": 6,
   "metadata": {},
   "outputs": [],
   "source": [
    "#明亮變化+旋轉\n",
    "\n",
    "def img_process(imgdata):\n",
    "\n",
    "    #明亮變化\n",
    "    rows,cols,channels = imgdata.shape\n",
    "    mi = 0.8\n",
    "    ma = 1.2\n",
    "    alpha = random.uniform(mi,ma)\n",
    "    beta = random.randint(0,20)\n",
    "    \n",
    "    blank = np.zeros([rows, cols, channels], imgdata.dtype)\n",
    "    img_brightness = cv2.addWeighted(imgdata, alpha, blank, 1-alpha, beta)\n",
    "    \n",
    "    #旋轉\n",
    "    angle = random.randint(0,360)\n",
    "    h, w, _ = img_brightness.shape\n",
    "    center = ((w//2),(h//2))\n",
    "    M = cv2.getRotationMatrix2D(center, angle, 1)\n",
    "    rotate_img = cv2.warpAffine(img_brightness, M, (w, h),borderMode=cv2.BORDER_REFLECT)\n",
    "    \n",
    "    return rotate_img"
   ]
  },
  {
   "cell_type": "code",
   "execution_count": 7,
   "metadata": {},
   "outputs": [],
   "source": [
    "def img_grow(dataname):\n",
    "    #os.makedirs('./dataset/train/%s'%(dataname))\n",
    "    img1 = cv2.imread('./image_sample/'+dataname+'.jpeg')[:, :, ::-1]\n",
    "    imgbg = cv2.imread('./image_sample/background_2.jpg')[:, :, ::-1]\n",
    "    for i in range(0 ,num):\n",
    "        re = imgbg.copy()\n",
    "        t = random.randint(1,3)\n",
    "\n",
    "        for j in range(1,t):\n",
    "        \n",
    "            rotate_img = img_process(img1)\n",
    "        \n",
    "            rx = random.randint(0, imgbg.shape[1]-rotate_img.shape[1])\n",
    "            ry = random.randint(600, imgbg.shape[0]-rotate_img.shape[0]-30)\n",
    "\n",
    "            x_offset = rx\n",
    "            y_offset = ry\n",
    "\n",
    "            img_grow=re\n",
    "            img_grow[y_offset:y_offset+rotate_img.shape[0], x_offset:x_offset+rotate_img.shape[1]] = rotate_img     \n",
    "        plt.imsave('./dataset/train/'+str(dataname)+'/'+str(i)+'.jpg',img_grow)\n",
    "        #水平翻轉\n",
    "        #flip_1 = cv2.flip(img_grow, 1)\n",
    "        #plt.imsave('./dataset/train/'+str(dataname)+'/'+str(i)+'_flip_1'+'.jpg',flip_1)\n",
    "\n",
    "        #旋轉90度\n",
    "        (h, w) = img_grow.shape[:2]\n",
    "        (cX, cY) = (w // 2, h // 2)\n",
    "\n",
    "        M = cv2.getRotationMatrix2D((cX, cY), 90, 1.0)\n",
    "        cos = np.abs(M[0, 0])\n",
    "        sin = np.abs(M[0, 1])\n",
    "        nW = int((h * sin) + (w * cos))\n",
    "        nH = int((h * cos) + (w * sin))\n",
    "        M[0, 2] += (nW / 2) - cX\n",
    "        M[1, 2] += (nH / 2) - cY\n",
    "        img_rotate90 = cv2.warpAffine(img_grow, M, (nW, nH))\n",
    "        plt.imsave('./dataset/train/'+str(dataname)+'/'+str(i)+'_rotate90'+'.jpg',img_rotate90)\n",
    "        \n",
    "        #flip_2 = cv2.flip(img_rotate90, 1)\n",
    "        #plt.imsave('./dataset/train/'+str(dataname)+'/'+str(i)+'_flip_2'+'.jpg',flip_2)\n",
    "        \n",
    "        #旋轉180度\n",
    "        (h, w) = img_grow.shape[:2]\n",
    "        (cX, cY) = (w // 2, h // 2)\n",
    "\n",
    "        M = cv2.getRotationMatrix2D((cX, cY), 180, 1.0)\n",
    "        cos = np.abs(M[0, 0])\n",
    "        sin = np.abs(M[0, 1])\n",
    "        nW = int((h * sin) + (w * cos))\n",
    "        nH = int((h * cos) + (w * sin))\n",
    "        M[0, 2] += (nW / 2) - cX\n",
    "        M[1, 2] += (nH / 2) - cY\n",
    "        img_rotate180 = cv2.warpAffine(img_grow, M, (nW, nH))\n",
    "        plt.imsave('./dataset/train/'+str(dataname)+'/'+str(i)+'_rotate180'+'.jpg',img_rotate180)\n",
    "        \n",
    "        #flip_3 = cv2.flip(img_rotate180, 1)\n",
    "        #plt.imsave('./dataset/train/'+str(dataname)+'/'+str(i)+'_flip_3'+'.jpg',flip_3)\n",
    "        \n",
    "        #旋轉270度\n",
    "        (h, w) = img_grow.shape[:2]\n",
    "        (cX, cY) = (w // 2, h // 2)\n",
    "\n",
    "        M = cv2.getRotationMatrix2D((cX, cY), 270, 1.0)\n",
    "        cos = np.abs(M[0, 0])\n",
    "        sin = np.abs(M[0, 1])\n",
    "        nW = int((h * sin) + (w * cos))\n",
    "        nH = int((h * cos) + (w * sin))\n",
    "        M[0, 2] += (nW / 2) - cX\n",
    "        M[1, 2] += (nH / 2) - cY\n",
    "        img_rotate270 = cv2.warpAffine(img_grow, M, (nW, nH))\n",
    "        plt.imsave('./dataset/train/'+str(dataname)+'/'+str(i)+'_rotate270'+'.jpg',img_rotate270)\n",
    "    \n",
    "        #flip_4 = cv2.flip(img_rotate270, 1)\n",
    "        #plt.imsave('./dataset/train/'+str(dataname)+'/'+str(i)+'_flip_4'+'.jpg',flip_4)"
   ]
  },
  {
   "cell_type": "code",
   "execution_count": 8,
   "metadata": {},
   "outputs": [],
   "source": [
    "#執行生成\n",
    "num = 50          #生成張數\n",
    "# dataname = '006271'\n",
    "# img_grow(dataname)"
   ]
  },
  {
   "cell_type": "code",
   "execution_count": 9,
   "metadata": {},
   "outputs": [],
   "source": [
    "List = [#'025866',#:  0, #Amoxicillin\n",
    "#'006271',#: 1, #Fucole PARAN\n",
    "#'013382',#: 2, #Magnesium Oxide\n",
    "#'046613',#: 3, #U-Chu Tonec\n",
    "#'029090',#: 4, #TonFul\n",
    "#'022105',#: 5, #Ulexin\n",
    "#'046118',#: 6, #B.H.L\n",
    "#'037441',#: 7, #Biperin\n",
    "#'011701',#: 8, #Peiwetsu\n",
    "#'006263',#: 9, #Bismuth\n",
    "#'028452',#:10, #BUSCOPAN\n",
    "#'018620',#:11, #UNDIARRHEA\n",
    "'045267',#:12, #U-CHUACEO\n",
    "#'040011',#:13, #Acemet\n",
    "#'055232',#:14, #KetenE.M.C.\n",
    "#'004085',#:15, #Alinamin-F50\n",
    "#'027940',#:16, #Beesix\n",
    "#'044710',#:17, #CetyFilm\n",
    "#'004928',#:18, #DailyCare\n",
    "#'039863',#:19, #Gincare\n",
    "#'040699',#:20, #Ginkgocentrate\n",
    "#'038575',#:21, #MabalCapsules\n",
    "#'021882',#:22, #Ningilon\n",
    "#'009102',#:23, #Propranolol\n",
    "#'047418',#:24, #Suride\n",
    "#'015392',#:25 #Transamin]\n",
    "       ]\n",
    "\n",
    "for i in List:\n",
    "    dataname = i\n",
    "    img_grow(dataname)\n",
    "    del globals()['img_grow']\n",
    "    "
   ]
  },
  {
   "cell_type": "code",
   "execution_count": null,
   "metadata": {},
   "outputs": [],
   "source": []
  },
  {
   "cell_type": "code",
   "execution_count": null,
   "metadata": {},
   "outputs": [],
   "source": []
  }
 ],
 "metadata": {
  "kernelspec": {
   "display_name": "Python 3",
   "language": "python",
   "name": "python3"
  },
  "language_info": {
   "codemirror_mode": {
    "name": "ipython",
    "version": 3
   },
   "file_extension": ".py",
   "mimetype": "text/x-python",
   "name": "python",
   "nbconvert_exporter": "python",
   "pygments_lexer": "ipython3",
   "version": "3.7.7"
  }
 },
 "nbformat": 4,
 "nbformat_minor": 4
}
